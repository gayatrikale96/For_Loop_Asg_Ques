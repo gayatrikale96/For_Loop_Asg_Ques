{
 "cells": [
  {
   "cell_type": "markdown",
   "id": "2e5d4f37-ba09-4dbf-b865-92d451e0c778",
   "metadata": {},
   "source": [
    "Basic Level:"
   ]
  },
  {
   "cell_type": "markdown",
   "id": "e04bd8a3-e493-4b0b-ac8f-3dfb400825ef",
   "metadata": {},
   "source": [
    "1. Write a Python program to print the numbers from 1 to 10 using a `for` loop."
   ]
  },
  {
   "cell_type": "code",
   "execution_count": 1,
   "id": "9f2dd243-fa56-4f54-895d-9cfb0d185a5e",
   "metadata": {},
   "outputs": [
    {
     "name": "stdout",
     "output_type": "stream",
     "text": [
      "1\n",
      "2\n",
      "3\n",
      "4\n",
      "5\n",
      "6\n",
      "7\n",
      "8\n",
      "9\n",
      "10\n"
     ]
    }
   ],
   "source": [
    "# Python program to print numbers from 1 to 10 using a for loop\n",
    "for number in range(1, 11):\n",
    "    print(number)\n"
   ]
  },
  {
   "cell_type": "markdown",
   "id": "b2815682-095f-48bb-8ab8-88fdb412aefc",
   "metadata": {},
   "source": [
    "2. Create a program that calculates the sum of all numbers in a list using a `for` loop."
   ]
  },
  {
   "cell_type": "code",
   "execution_count": 6,
   "id": "78ed2ea9-0cf0-4958-81be-3e4deeed0a42",
   "metadata": {},
   "outputs": [
    {
     "name": "stdout",
     "output_type": "stream",
     "text": [
      "Sum of numbers: 260\n"
     ]
    }
   ],
   "source": [
    "# Python program to calculate the sum of numbers in a list using a for loop\n",
    "\n",
    "# Sample list of numbers\n",
    "numbers = [45,83,86,27,19]\n",
    "\n",
    "# Initialize sum to zero\n",
    "sum_of_numbers = 0\n",
    "\n",
    "# Calculate the sum using a for loop\n",
    "for number in numbers:\n",
    "    sum_of_numbers += number\n",
    "    \n",
    "# Print the sum\n",
    "print(\"Sum of numbers:\", sum_of_numbers)\n"
   ]
  },
  {
   "cell_type": "markdown",
   "id": "0ff1fffe-b80a-4097-b19a-26fe6633d732",
   "metadata": {},
   "source": [
    "The list numbers contains sample numbers.\n",
    "\n",
    "The for loop iterates over each number in the list. \n",
    "\n",
    "The sum is calculated by adding each number to the sum_of_numbers variable. Finally, the sum is printed."
   ]
  },
  {
   "cell_type": "markdown",
   "id": "665d5b60-07c8-4aab-b7d0-552aa376d817",
   "metadata": {},
   "source": [
    "3. Write a program to print the characters of a string in reverse order using a `for` loop."
   ]
  },
  {
   "cell_type": "code",
   "execution_count": 7,
   "id": "5e0f1961-9cca-4eff-8968-33dc0ae1dc4e",
   "metadata": {},
   "outputs": [
    {
     "name": "stdout",
     "output_type": "stream",
     "text": [
      "r a k e d n a B   i r t a y a G "
     ]
    }
   ],
   "source": [
    "# Python program to print characters of a string in reverse order using a for loop\n",
    "\n",
    "# Sample string\n",
    "my_string = \"Gayatri Bandekar\"\n",
    "\n",
    "# Print the characters in reverse order using a for loop\n",
    "for char in reversed(my_string):\n",
    "    print(char, end=' ')"
   ]
  },
  {
   "cell_type": "markdown",
   "id": "71f05717-3b7a-4f5b-b806-d74f3d4f60ac",
   "metadata": {},
   "source": [
    "The reversed() function is used to reverse the order of characters in the string my_string. \n",
    "\n",
    "The for loop then iterates over each character in the reversed string, and the print() statement prints the characters without a newline (using end=''). \n",
    "\n",
    "The final output will be the characters of the string in reverse order."
   ]
  },
  {
   "cell_type": "markdown",
   "id": "c9eb305b-e2c3-4765-bd30-92a250008091",
   "metadata": {},
   "source": [
    "4. Develop a program that finds the factorial of a given number using a `for` loop."
   ]
  },
  {
   "cell_type": "code",
   "execution_count": 9,
   "id": "9f631247-0339-43a8-abf0-f95ad49cb0e1",
   "metadata": {},
   "outputs": [
    {
     "name": "stdin",
     "output_type": "stream",
     "text": [
      "Enter a number:  8\n"
     ]
    },
    {
     "name": "stdout",
     "output_type": "stream",
     "text": [
      "The factorial of 8 is: 40320\n"
     ]
    }
   ],
   "source": [
    "# Take user input for the number\n",
    "num = int(input(\"Enter a number: \"))\n",
    "\n",
    "#Initialize a variable to store the factorial (start with 1 since the factorial of 0 and 1 is 1)\n",
    "factorial = 1\n",
    "\n",
    "#Use a for loop to iterate from 1 to the given number and calculate the factorial\n",
    "for i in range(1, num + 1):\n",
    "    factorial *= i\n",
    "\n",
    "#Print the result\n",
    "print(f\"The factorial of {num} is: {factorial}\")\n",
    "\n",
    "    \n",
    "\n",
    "\n"
   ]
  },
  {
   "cell_type": "markdown",
   "id": "f03f263f-bd20-4101-a544-f18f8038e5e6",
   "metadata": {},
   "source": [
    "The user is prompted to enter a number.\n",
    "\n",
    "The for loop iterates from 1 to the given number (num), and at each iteration, it multiplies the current value of factorial by the loop variable i.\n",
    "\n",
    "After the loop, the program prints the calculated factorial."
   ]
  },
  {
   "cell_type": "markdown",
   "id": "c7f18e9c-fd39-4f3f-a3e9-5337fd605eb6",
   "metadata": {},
   "source": [
    "5. Create a program to print the multiplication table of a given number using a `for` loop."
   ]
  },
  {
   "cell_type": "code",
   "execution_count": 1,
   "id": "c5c70370-481d-4809-b2fc-2cd245e80f01",
   "metadata": {},
   "outputs": [
    {
     "name": "stdin",
     "output_type": "stream",
     "text": [
      "Enter a number:  9\n"
     ]
    },
    {
     "name": "stdout",
     "output_type": "stream",
     "text": [
      "9 x 1 = 9\n",
      "9 x 2 = 18\n",
      "9 x 3 = 27\n",
      "9 x 4 = 36\n",
      "9 x 5 = 45\n",
      "9 x 6 = 54\n",
      "9 x 7 = 63\n",
      "9 x 8 = 72\n",
      "9 x 9 = 81\n",
      "9 x 10 = 90\n"
     ]
    }
   ],
   "source": [
    "# Step 1: Take user input for the number\n",
    "num = int(input(\"Enter a number: \"))\n",
    "\n",
    "# Step 2: Use a for loop to iterate from 1 to 10\n",
    "for i in range(1, 11):\n",
    "    # Step 3: Inside the loop, calculate and print the product\n",
    "    result = num * i\n",
    "    print(f\"{num} x {i} = {result}\")\n"
   ]
  },
  {
   "cell_type": "markdown",
   "id": "a4160ac1-5c70-4b13-b41e-6698fe009446",
   "metadata": {},
   "source": [
    "The user is prompted to enter a number.\n",
    "\n",
    "The for loop iterates from 1 to 10, as we typically print multiplication tables up to 10.\n",
    "\n",
    "Inside the loop, the product of the given number (num) and the loop variable (i) is calculated and printed."
   ]
  },
  {
   "cell_type": "markdown",
   "id": "ebdff27c-8a77-4cbf-93cf-781fe977c960",
   "metadata": {},
   "source": [
    "6. Write a program that counts the number of even and odd numbers in a list using a `for` loop."
   ]
  },
  {
   "cell_type": "code",
   "execution_count": 3,
   "id": "3b7d9614-3ce1-4b75-b165-49c0ae451d82",
   "metadata": {},
   "outputs": [
    {
     "name": "stdout",
     "output_type": "stream",
     "text": [
      "Number of even numbers: 5\n",
      "Number of odd numbers: 5\n"
     ]
    }
   ],
   "source": [
    "# Python program to count the number of even and odd numbers in a list using a for loop\n",
    "\n",
    "# Sample list of numbers\n",
    "numbers = [1, 2, 3, 4, 5, 6, 7, 8, 9, 10]\n",
    "\n",
    "# Initialize counters for even and odd numbers\n",
    "even_count = 0\n",
    "odd_count = 0\n",
    "\n",
    "# Use a for loop to iterate over each number in the list\n",
    "for number in numbers:\n",
    "      # Check if the number is even or odd\n",
    "        if number % 2 == 0:\n",
    "            even_count += 1\n",
    "        else:\n",
    "            odd_count += 1\n",
    "            \n",
    "# Print the results\n",
    "print(\"Number of even numbers:\", even_count)\n",
    "print(\"Number of odd numbers:\", odd_count)\n",
    "    "
   ]
  },
  {
   "cell_type": "markdown",
   "id": "61b96dda-aa03-4ef1-9096-3a6594b5fc00",
   "metadata": {},
   "source": [
    "The list numbers contains sample numbers.\n",
    "\n",
    "Two counters (even_count and odd_count) are initialized to zero to keep track of the number of even and odd numbers.\n",
    "\n",
    "The for loop iterates over each number in the list.\n",
    "\n",
    "Inside the loop, it checks if the current number is even or odd using the modulo operator (%).\n",
    "\n",
    "Depending on the result, it increments the corresponding counter.\n",
    "\n",
    "Finally, the program prints the counts of even and odd numbers."
   ]
  },
  {
   "cell_type": "markdown",
   "id": "2f734729-eacb-4e99-a287-17219de24983",
   "metadata": {},
   "source": [
    "7. Develop a program that prints the squares of numbers from 1 to 5 using a `for` loop."
   ]
  },
  {
   "cell_type": "code",
   "execution_count": 5,
   "id": "3a222b06-3796-453c-ba95-c3459d0ae7e3",
   "metadata": {},
   "outputs": [
    {
     "name": "stdout",
     "output_type": "stream",
     "text": [
      "The square of 1 is: 1\n",
      "The square of 2 is: 4\n",
      "The square of 3 is: 9\n",
      "The square of 4 is: 16\n",
      "The square of 5 is: 25\n"
     ]
    }
   ],
   "source": [
    "# Use a for loop to iterate over the numbers from 1 to 5\n",
    "for number in range(1,6):\n",
    "     # Inside the loop, calculate and print the square\n",
    "        square = number ** 2\n",
    "        print(f\"The square of {number} is: {square}\")\n",
    "    "
   ]
  },
  {
   "cell_type": "markdown",
   "id": "063ce724-490d-4bc7-b16b-31ef9c8d6ed0",
   "metadata": {},
   "source": [
    "The for loop iterates over the numbers from 1 to 5 using the range(1, 6) function.\n",
    "\n",
    "Inside the loop, the square of each number is calculated using the exponentiation operator (**).\n",
    "\n",
    "The print() statement then prints the original number and its square."
   ]
  },
  {
   "cell_type": "code",
   "execution_count": 7,
   "id": "623834b5-1343-4809-a565-7abcc1382045",
   "metadata": {},
   "outputs": [
    {
     "name": "stdin",
     "output_type": "stream",
     "text": [
      "Enter a string:  Gayatri Kale\n"
     ]
    },
    {
     "name": "stdout",
     "output_type": "stream",
     "text": [
      "The length of the string is: 12\n"
     ]
    }
   ],
   "source": [
    "# Take user input for the string\n",
    "user_input = input(\"Enter a string: \")\n",
    "\n",
    "# Initialize a counter variable\n",
    "length = 0\n",
    "\n",
    "# Use a for loop to iterate over each character in the string\n",
    "for char in user_input:\n",
    "    # Increment the counter for each character in the loop\n",
    "    length += 1\n",
    "    \n",
    "# Print the length of the string\n",
    "print(f\"The length of the string is: {length}\")\n",
    "    "
   ]
  },
  {
   "cell_type": "markdown",
   "id": "7e9bc606-292a-42e9-bef7-f025d19d36fe",
   "metadata": {},
   "source": [
    "The user is prompted to enter a string.\n",
    "\n",
    "The for loop iterates over each character in the string.\n",
    "\n",
    "Inside the loop, the counter (length) is incremented for each character.\n",
    "\n",
    "After the loop, the program prints the calculated length of the string."
   ]
  },
  {
   "cell_type": "markdown",
   "id": "8fcf72bb-93f2-4cb2-9604-3e7099c6c709",
   "metadata": {},
   "source": [
    "9. Write a program that calculates the average of a list of numbers using a `for` loop."
   ]
  },
  {
   "cell_type": "code",
   "execution_count": 8,
   "id": "48f2776b-2688-43e4-b265-219199eba144",
   "metadata": {},
   "outputs": [
    {
     "name": "stdout",
     "output_type": "stream",
     "text": [
      "The average of the numbers is: 30.0\n"
     ]
    }
   ],
   "source": [
    "# Create a list of numbers\n",
    "numbers = [10,20,30,40,50]\n",
    "\n",
    "# Initialize variables for sum and count\n",
    "total_sum = 0\n",
    "count = 0\n",
    "\n",
    "# Use a for loop to iterate over each number in the list\n",
    "for number in numbers:\n",
    "    \n",
    "    # Inside the loop, add the current number to the sum and increment the count\n",
    "    total_sum += number\n",
    "    count += 1\n",
    "    \n",
    "# Calculate the average by dividing the sum by the count\n",
    "average = total_sum / count\n",
    "\n",
    "# Print the average\n",
    "print(f\"The average of the numbers is: {average}\")\n",
    "    "
   ]
  },
  {
   "cell_type": "markdown",
   "id": "d12002bd-9c8d-4c96-8e1f-fbe1810af987",
   "metadata": {},
   "source": [
    "A sample list of numbers is provided.\n",
    "\n",
    "Two variables (total_sum and count) are initialized to keep track of the sum and the count of numbers.\n",
    "\n",
    "The for loop iterates over each number in the list.\n",
    "\n",
    "Inside the loop, the current number is added to the sum (total_sum) and the count is incremented.\n",
    "\n",
    "After the loop, the average is calculated by dividing the sum by the count.\n",
    "\n",
    "Finally, the program prints the calculated average.\n"
   ]
  },
  {
   "cell_type": "markdown",
   "id": "d7d072d0-a40b-4707-9cd0-aa5cfdcf4799",
   "metadata": {},
   "source": [
    "10. Develop a program that prints the first `n` Fibonacci numbers using a `for` loop."
   ]
  },
  {
   "cell_type": "code",
   "execution_count": 9,
   "id": "fac74ab9-2831-42c8-804a-bb269f0ab812",
   "metadata": {},
   "outputs": [
    {
     "name": "stdin",
     "output_type": "stream",
     "text": [
      "Enter the value of n:  9\n"
     ]
    },
    {
     "name": "stdout",
     "output_type": "stream",
     "text": [
      "Fibonacci sequence:\n",
      "0\n",
      "1\n",
      "1\n",
      "2\n",
      "3\n",
      "5\n",
      "8\n",
      "13\n",
      "21\n"
     ]
    }
   ],
   "source": [
    "# Take user input for the value of n\n",
    "n = int(input(\"Enter the value of n: \"))\n",
    "\n",
    "# Initialize variables for the first two Fibonacci numbers\n",
    "fib1, fib2 = 0,1\n",
    "\n",
    "# Print the first two Fibonacci numbers (0 and 1)\n",
    "print(\"Fibonacci sequence:\")\n",
    "print(fib1)\n",
    "print(fib2)\n",
    "\n",
    "# Use a for loop to generate the next n-2 Fibonacci numbers\n",
    "for _ in range(n - 2):\n",
    "    # Inside the loop, calculate the next Fibonacci number, print it, and update variables\n",
    "    fib_next = fib1 + fib2\n",
    "    print(fib_next)\n",
    "    fib1, fib2 = fib2, fib_next\n",
    "    \n"
   ]
  },
  {
   "cell_type": "markdown",
   "id": "1b02cb03-6529-4de3-8fe3-42270e786e8f",
   "metadata": {},
   "source": [
    "The user is prompted to enter the value of n.\n",
    "\n",
    "Two variables (fib1 and fib2) are initialized to 0 and 1, representing the first two Fibonacci numbers.\n",
    "\n",
    "The first two Fibonacci numbers are printed.\n",
    "\n",
    "The for loop iterates n-2 times to generate the next n-2 Fibonacci numbers.\n",
    "\n",
    "Inside the loop, the next Fibonacci number (fib_next) is calculated by adding the previous two numbers, printed, and the variables are updated for the next iteration."
   ]
  },
  {
   "cell_type": "markdown",
   "id": "d644c0fd-0ab5-42c5-9c3d-581a81ca12a2",
   "metadata": {},
   "source": [
    "Intermediate Level:"
   ]
  },
  {
   "cell_type": "markdown",
   "id": "2ef02cf4-f8d0-40f0-be21-925b9ce40b8b",
   "metadata": {},
   "source": [
    "11. Write a program to check if a given list contains any duplicates using a `for` loop."
   ]
  },
  {
   "cell_type": "code",
   "execution_count": 11,
   "id": "c50f8b97-debe-441f-b4f1-02b235ad3114",
   "metadata": {},
   "outputs": [
    {
     "name": "stdout",
     "output_type": "stream",
     "text": [
      "Duplicate found: 2\n"
     ]
    }
   ],
   "source": [
    "# Create a sample list with or without duplicates\n",
    "numbers = [1,2,3,4,5,2,6,7,8,9]\n",
    "\n",
    "# Initialize an empty set to track unique elements\n",
    "unique_elements = set()\n",
    "\n",
    "# Use a for loop to iterate over each element in the list\n",
    "for number in numbers:\n",
    "    # Inside the loop, check if the element is already in the set (indicating a duplicate)\n",
    "    if number in unique_elements:\n",
    "        print(f\"Duplicate found: {number}\")\n",
    "        break # Exit the loop if a duplicate is found\n",
    "    else:\n",
    "        unique_elements.add(number) # Add the element to the set if it's not a duplicate\n",
    "else:\n",
    "    # Print a message if no duplicates are found\n",
    "    print(\"No duplicates found.\")\n",
    "    "
   ]
  },
  {
   "cell_type": "markdown",
   "id": "98586eb0-63df-4c70-83ca-27a6ffce13fc",
   "metadata": {},
   "source": [
    "A sample list of numbers is provided, which may or may not contain duplicates.\n",
    "\n",
    "An empty set (unique_elements) is initialized to track unique elements encountered so far.\n",
    "\n",
    "The for loop iterates over each element in the list.\n",
    "\n",
    "Inside the loop, it checks if the element is already in the set. If it is, it prints a message about the duplicate and exits the loop.\n",
    "\n",
    "If the element is not a duplicate, it is added to the set.\n",
    "\n",
    "If the loop completes without finding any duplicates, a message is printed indicating that no duplicates were found.\n"
   ]
  },
  {
   "cell_type": "markdown",
   "id": "5ca9100e-8f24-4391-b154-cc6162c5fa37",
   "metadata": {},
   "source": [
    "12. Create a program that prints the prime numbers in a given range using a `for` loop."
   ]
  },
  {
   "cell_type": "code",
   "execution_count": 12,
   "id": "62ffc80d-ea0f-4a54-9730-e9b077aa2dd7",
   "metadata": {},
   "outputs": [
    {
     "name": "stdin",
     "output_type": "stream",
     "text": [
      "Enter the start of the range:  10\n",
      "Enter the end of the range:  60\n"
     ]
    },
    {
     "name": "stdout",
     "output_type": "stream",
     "text": [
      "11\n",
      "13\n",
      "17\n",
      "19\n",
      "23\n",
      "29\n",
      "31\n",
      "37\n",
      "41\n",
      "43\n",
      "47\n",
      "53\n",
      "59\n"
     ]
    }
   ],
   "source": [
    "# Take user input for the range\n",
    "start = int(input(\"Enter the start of the range: \"))\n",
    "end = int(input(\"Enter the end of the range: \"))\n",
    "\n",
    "# Use a for loop to iterate over each number in the range\n",
    "for num in range(start, end + 1):\n",
    "    # Check if the current number is greater than 1\n",
    "    if num > 1:\n",
    "        # Use a nested for loop to check if the number is divisible by any number from 2 to the square root of the number\n",
    "        for i in range(2, int(num**0.5) + 1):\n",
    "            # If the number is divisible by any other number, break out of the loop\n",
    "            if num % i == 0:\n",
    "                break\n",
    "        else:\n",
    "            # Print the prime number if it is not divisible by any other number\n",
    "            print(num)\n",
    "            \n"
   ]
  },
  {
   "cell_type": "markdown",
   "id": "3642c0e1-3465-4720-b79b-ecca4604561a",
   "metadata": {},
   "source": [
    "The user is prompted to enter the start and end values of the range.\n",
    "\n",
    "The for loop iterates over each number in the specified range.\n",
    "\n",
    "Inside the loop, it checks if the current number is greater than 1 (prime numbers are greater than 1).\n",
    "\n",
    "A nested for loop is used to check if the number is divisible by any number from 2 to the square root of the number.\n",
    "\n",
    "If the number is divisible by any other number, it breaks out of the loop (indicating it is not a prime number).\n",
    "\n",
    "If the loop completes without finding a divisor, the number is printed, indicating it is a prime number.\n"
   ]
  },
  {
   "cell_type": "markdown",
   "id": "9ed7bcd6-8181-404e-8001-e7de9e6cb39e",
   "metadata": {},
   "source": [
    "13. Develop a program that counts the number of vowels in a string using a `for` loop."
   ]
  },
  {
   "cell_type": "code",
   "execution_count": 13,
   "id": "9210e955-fa4e-4c26-945b-ca060e21e0ce",
   "metadata": {},
   "outputs": [
    {
     "name": "stdin",
     "output_type": "stream",
     "text": [
      "Enter a string:  Python is a versatile language.\n"
     ]
    },
    {
     "name": "stdout",
     "output_type": "stream",
     "text": [
      "The number of vowels in the string is: 11\n"
     ]
    }
   ],
   "source": [
    "# Take user input for the string\n",
    "user_input = input(\"Enter a string: \")\n",
    "\n",
    "# Initialize a counter variable for the number of vowels\n",
    "vowel_count = 0\n",
    "\n",
    "# Use a for loop to iterate over each character in the string\n",
    "for char in user_input:\n",
    "    # Inside the loop, check if the character is a vowel and increment the counter\n",
    "    if char.lower() in \"aeiou\":\n",
    "        vowel_count += 1\n",
    "        \n",
    "# Print the total number of vowels in the string\n",
    "print(f\"The number of vowels in the string is: {vowel_count}\")\n"
   ]
  },
  {
   "cell_type": "markdown",
   "id": "dff47de5-5124-4575-9412-f08259614666",
   "metadata": {},
   "source": [
    "The user is prompted to enter a string.\n",
    "\n",
    "A counter variable (vowel_count) is initialized to keep track of the number of vowels.\n",
    "\n",
    "The for loop iterates over each character in the string.\n",
    "\n",
    "Inside the loop, it checks if the lowercase version of the character is a vowel (by comparing it to the string \"aeiou\") and increments the counter accordingly.\n",
    "\n",
    "After the loop, the program prints the total number of vowels in the string.\n"
   ]
  },
  {
   "cell_type": "markdown",
   "id": "945cc347-9a0e-464b-8c48-d77c51b73d90",
   "metadata": {},
   "source": [
    "14. Write a program to find the maximum element in a 2D list using a nested `for` loop."
   ]
  },
  {
   "cell_type": "code",
   "execution_count": 14,
   "id": "99a558d7-52e7-4b37-94cc-d3a89206c2e9",
   "metadata": {},
   "outputs": [
    {
     "name": "stdout",
     "output_type": "stream",
     "text": [
      "The maximum element in the 2D list is: 9\n"
     ]
    }
   ],
   "source": [
    "# Create a sample 2D list\n",
    "matrix = [\n",
    "    [1, 2, 3],\n",
    "    [4, 5, 6],\n",
    "    [7, 8, 9]\n",
    "]\n",
    "\n",
    "# Initialize a variable to store the maximum element\n",
    "max_element = float('-inf')\n",
    "\n",
    "# Use a nested for loop to iterate over each element in the 2D list\n",
    "for row in matrix:\n",
    "    for element in row:\n",
    "        # Inside the loop, check if the current element is greater than the current maximum\n",
    "        if element > max_element:\n",
    "            # If true, update the maximum element with the current element\n",
    "            max_element = element\n",
    "        \n",
    "# Print the maximum element after the loops\n",
    "print(f\"The maximum element in the 2D list is: {max_element}\")\n",
    "            \n",
    "        \n"
   ]
  },
  {
   "cell_type": "markdown",
   "id": "a13536b6-7d5a-43de-a908-c5bd45ed7784",
   "metadata": {},
   "source": [
    "A sample 2D list (matrix) is provided.\n",
    "\n",
    "A variable (max_element) is initialized to the minimum possible value (negative infinity) to start with.\n",
    "\n",
    "The outer for loop iterates over each row in the 2D list.\n",
    "\n",
    "The inner for loop iterates over each element in the current row.\n",
    "\n",
    "Inside the inner loop, it checks if the current element is greater than the current maximum (max_element).\n",
    "\n",
    "If true, it updates the maximum element with the current element.\n",
    "\n",
    "After both loops complete, the program prints the maximum element.\n"
   ]
  },
  {
   "cell_type": "markdown",
   "id": "7eb6b4f2-2117-4d34-b455-4923bd75be6a",
   "metadata": {},
   "source": [
    "15. Create a program that removes all occurrences of a specific element from a list using a `for` loop."
   ]
  },
  {
   "cell_type": "code",
   "execution_count": 15,
   "id": "8df2ad04-9dc9-47eb-b9f6-46eeaa74ed6a",
   "metadata": {},
   "outputs": [
    {
     "name": "stdin",
     "output_type": "stream",
     "text": [
      "Enter the element to remove:  2\n"
     ]
    },
    {
     "name": "stdout",
     "output_type": "stream",
     "text": [
      "The list after removing 2: [1, 3, 4, 5, 6]\n"
     ]
    }
   ],
   "source": [
    "# Step 1: Create a sample list\n",
    "my_list = [1, 2, 3, 2, 4, 5, 2, 6]\n",
    "\n",
    "# Step 2: Take user input for the element to remove\n",
    "element_to_remove = int(input(\"Enter the element to remove: \"))\n",
    "\n",
    "# Use a for loop to iterate over each element in the list\n",
    "for element in my_list:\n",
    "    # Inside the loop, check if the current element is equal to the element to remove\n",
    "    if element == element_to_remove:\n",
    "        # If true, remove the element from the list\n",
    "        my_list.remove(element)\n",
    "        \n",
    "# Print the updated list after the loop\n",
    "print(f\"The list after removing {element_to_remove}: {my_list}\")\n",
    "        \n",
    "    "
   ]
  },
  {
   "cell_type": "markdown",
   "id": "88cb7c6a-49cd-4843-af87-48adaccd8322",
   "metadata": {},
   "source": [
    "A sample list (my_list) is provided, which may or may not contain occurrences of the specific element.\n",
    "\n",
    "The user is prompted to enter the element to remove.\n",
    "\n",
    "The for loop iterates over each element in the list.\n",
    "\n",
    "Inside the loop, it checks if the current element is equal to the element to remove.\n",
    "\n",
    "If true, it removes the element from the list using the remove method.\n",
    "\n",
    "After the loop, the program prints the updated list."
   ]
  },
  {
   "cell_type": "markdown",
   "id": "3a245858-8913-4aff-90e2-02a13f349061",
   "metadata": {},
   "source": [
    "16. Develop a program that generates a multiplication table for numbers from 1 to 5 using a nested `for` loop."
   ]
  },
  {
   "cell_type": "code",
   "execution_count": 16,
   "id": "6164ae09-1cda-4ed9-9965-810f5006accf",
   "metadata": {},
   "outputs": [
    {
     "name": "stdout",
     "output_type": "stream",
     "text": [
      "1 x 1 = 1\n",
      "1 x 2 = 2\n",
      "1 x 3 = 3\n",
      "1 x 4 = 4\n",
      "1 x 5 = 5\n",
      "1 x 6 = 6\n",
      "1 x 7 = 7\n",
      "1 x 8 = 8\n",
      "1 x 9 = 9\n",
      "1 x 10 = 10\n",
      "2 x 1 = 2\n",
      "2 x 2 = 4\n",
      "2 x 3 = 6\n",
      "2 x 4 = 8\n",
      "2 x 5 = 10\n",
      "2 x 6 = 12\n",
      "2 x 7 = 14\n",
      "2 x 8 = 16\n",
      "2 x 9 = 18\n",
      "2 x 10 = 20\n",
      "3 x 1 = 3\n",
      "3 x 2 = 6\n",
      "3 x 3 = 9\n",
      "3 x 4 = 12\n",
      "3 x 5 = 15\n",
      "3 x 6 = 18\n",
      "3 x 7 = 21\n",
      "3 x 8 = 24\n",
      "3 x 9 = 27\n",
      "3 x 10 = 30\n",
      "4 x 1 = 4\n",
      "4 x 2 = 8\n",
      "4 x 3 = 12\n",
      "4 x 4 = 16\n",
      "4 x 5 = 20\n",
      "4 x 6 = 24\n",
      "4 x 7 = 28\n",
      "4 x 8 = 32\n",
      "4 x 9 = 36\n",
      "4 x 10 = 40\n",
      "5 x 1 = 5\n",
      "5 x 2 = 10\n",
      "5 x 3 = 15\n",
      "5 x 4 = 20\n",
      "5 x 5 = 25\n",
      "5 x 6 = 30\n",
      "5 x 7 = 35\n",
      "5 x 8 = 40\n",
      "5 x 9 = 45\n",
      "5 x 10 = 50\n"
     ]
    }
   ],
   "source": [
    "# Use a nested for loop to generate a multiplication table for numbers from 1 to 5\n",
    "for i in range(1,6): # Multiplier\n",
    "    for j in range(1, 11): # Multiplicand\n",
    "        # Calculate and print the product\n",
    "        product = i * j\n",
    "        print(f\"{i} x {j} = {product}\")\n",
    "        \n",
    "    "
   ]
  },
  {
   "cell_type": "markdown",
   "id": "07788c2e-9d7e-42ab-a000-bdf8777346ea",
   "metadata": {},
   "source": [
    "The outer loop (for i in range(1, 6)) iterates over each multiplier from 1 to 5.\n",
    "\n",
    "The inner loop (for j in range(1, 11)) iterates over each multiplicand from 1 to 10 for each multiplier.\n",
    "\n",
    "Inside the inner loop, it calculates the product of the current multiplier and multiplicand (i * j) and prints the multiplication table entry.\n"
   ]
  },
  {
   "cell_type": "markdown",
   "id": "50b37841-17c7-41ff-8e58-e7c9b1df561c",
   "metadata": {},
   "source": [
    "17. Write a program that converts a list of Fahrenheit temperatures to Celsius using a `for` loop."
   ]
  },
  {
   "cell_type": "code",
   "execution_count": 18,
   "id": "ccd899a8-1cb3-4600-ba46-a1da6342930b",
   "metadata": {},
   "outputs": [
    {
     "name": "stdout",
     "output_type": "stream",
     "text": [
      "Fahrenheit Temperatures: [32, 68, 104, 212]\n",
      "Celsius Temperatures: [0.0, 20.0, 40.0, 100.0]\n"
     ]
    }
   ],
   "source": [
    "# Create a sample list of Fahrenheit temperatures\n",
    "fahrenheit_temperatures = [32, 68, 104, 212]\n",
    "\n",
    "# Initialize an empty list for Celsius temperatures\n",
    "celsius_temperatures = []\n",
    "\n",
    "# Use a for loop to iterate over each Fahrenheit temperature in the list\n",
    "for fahrenheit in fahrenheit_temperatures:\n",
    "    # Inside the loop, calculate the Celsius temperature using the conversion formula\n",
    "    celsius = (fahrenheit - 32) * 5/9\n",
    "    \n",
    "    # Append the calculated Celsius temperature to the list\n",
    "    celsius_temperatures.append(celsius)\n",
    "    \n",
    "# Print the original Fahrenheit temperatures and the corresponding converted Celsius temperatures\n",
    "print(\"Fahrenheit Temperatures:\", fahrenheit_temperatures)\n",
    "print(\"Celsius Temperatures:\", celsius_temperatures)\n",
    "    \n",
    "    "
   ]
  },
  {
   "cell_type": "markdown",
   "id": "a6e7117e-60d6-49ec-8bc7-ec91321578a8",
   "metadata": {},
   "source": [
    "A sample list of Fahrenheit temperatures (fahrenheit_temperatures) is provided.\n",
    "\n",
    "An empty list (celsius_temperatures) is initialized to store the converted Celsius temperatures.\n",
    "\n",
    "The for loop iterates over each Fahrenheit temperature in the list.\n",
    "\n",
    "Inside the loop, it calculates the corresponding Celsius temperature using the conversion formula and appends it to the list.\n",
    "\n",
    "After the loop, the program prints both the original Fahrenheit temperatures and the corresponding converted Celsius temperatures."
   ]
  },
  {
   "cell_type": "markdown",
   "id": "810511cd-ed21-4fc4-9d5b-1f2d9fbb03f3",
   "metadata": {},
   "source": [
    "18. Create a program to print the common elements from two lists using a `for` loop."
   ]
  },
  {
   "cell_type": "code",
   "execution_count": 19,
   "id": "6bcf277a-f6ea-42fc-9647-6063cbf4801c",
   "metadata": {},
   "outputs": [
    {
     "name": "stdout",
     "output_type": "stream",
     "text": [
      "Common Elements: [3, 4, 5]\n"
     ]
    }
   ],
   "source": [
    "# Create two sample lists with common elements\n",
    "list1 = [1, 2, 3, 4, 5]\n",
    "list2 = [3, 4, 5, 6, 7]\n",
    "\n",
    "# Initialize an empty list for common elements\n",
    "common_elements = []\n",
    "\n",
    "# Use a for loop to iterate over each element in the first list\n",
    "for element in list1:\n",
    "    # Inside the loop, check if the element is also present in the second list\n",
    "    if element in list2:\n",
    "        # If true, append the element to the list of common elements\n",
    "        common_elements.append(element)\n",
    "        \n",
    "# Print the list of common elements after the loop\n",
    "print(\"Common Elements:\", common_elements)\n",
    "        \n",
    "        \n",
    "    "
   ]
  },
  {
   "cell_type": "markdown",
   "id": "1f694ad8-fafa-424b-9a90-0af838ec82af",
   "metadata": {},
   "source": [
    "Two sample lists (list1 and list2) are provided with common elements.\n",
    "\n",
    "An empty list (common_elements) is initialized to store the common elements.\n",
    "\n",
    "The for loop iterates over each element in the first list (list1).\n",
    "\n",
    "Inside the loop, it checks if the current element is also present in the second list (list2).\n",
    "\n",
    "If true, it appends the element to the list of common elements.\n",
    "\n",
    "After the loop, the program prints the list of common elements."
   ]
  },
  {
   "cell_type": "markdown",
   "id": "b2b3cbfb-0461-4e05-8b2a-a7a735cf9ed7",
   "metadata": {},
   "source": [
    "19. Develop a program that prints the pattern of right-angled triangles using a `for` loop. Use ‘*’ to draw the\n",
    "pattern"
   ]
  },
  {
   "cell_type": "code",
   "execution_count": 22,
   "id": "5a0fd843-b4f1-4b13-8e82-40953f409705",
   "metadata": {},
   "outputs": [
    {
     "name": "stdin",
     "output_type": "stream",
     "text": [
      "Enter the number of rows for the right-angled triangle:  5\n"
     ]
    },
    {
     "name": "stdout",
     "output_type": "stream",
     "text": [
      "* \n",
      "* * \n",
      "* * * \n",
      "* * * * \n",
      "* * * * * \n"
     ]
    }
   ],
   "source": [
    "# Take user input for the number of rows\n",
    "num_rows = int(input(\"Enter the number of rows for the right-angled triangle: \"))\n",
    "\n",
    "# Use a for loop to iterate over each row\n",
    "for i in range(1, num_rows + 1):\n",
    "    # Inside the loop, use a nested for loop to print '*' characters for each column\n",
    "    for j in range(1, i + 1):\n",
    "        print('*',end=' ')\n",
    "    # Move to the next line after printing the '*' characters for a row\n",
    "    print()\n",
    "        \n"
   ]
  },
  {
   "cell_type": "markdown",
   "id": "05be07f0-afe9-4427-aeab-e4c4fc9b473d",
   "metadata": {},
   "source": [
    "The user is prompted to enter the number of rows for the right-angled triangle.\n",
    "\n",
    "The outer for loop (for i in range(1, num_rows + 1)) iterates over each row.\n",
    "\n",
    "The inner for loop (for j in range(1, i + 1)) iterates over each column in the current row.\n",
    "\n",
    "Inside the inner loop, '' characters are printed for each column, and the end=' ' parameter is used to print the '' characters horizontally.\n",
    "\n",
    "After printing the '*' characters for a row, the program moves to the next line."
   ]
  },
  {
   "cell_type": "markdown",
   "id": "7caecf5e-bf0f-4d93-bb44-b4ef661ea356",
   "metadata": {},
   "source": [
    "20. Write a program to find the greatest common divisor (GCD) of two numbers using a `for` loop."
   ]
  },
  {
   "cell_type": "code",
   "execution_count": 23,
   "id": "5d788f29-ba58-4538-a062-67b1b0af80dc",
   "metadata": {},
   "outputs": [
    {
     "name": "stdin",
     "output_type": "stream",
     "text": [
      "Enter the firstg number:  48\n",
      "Enter the second number:  18\n"
     ]
    },
    {
     "name": "stdout",
     "output_type": "stream",
     "text": [
      "The greatest common divisor (GCD) of 48 and 18 is: 6\n"
     ]
    }
   ],
   "source": [
    "# Take user input for the two numbers\n",
    "num1 = int(input(\"Enter the firstg number: \"))\n",
    "num2 = int(input(\"Enter the second number: \"))\n",
    "\n",
    "# Initialize a variable to store the GCD\n",
    "gcd = min(num1, num2)\n",
    "\n",
    "# Use a for loop to iterate from the minimum of the two numbers down to 1\n",
    "for i in range(gcd, 0, -1):\n",
    "    # Inside the loop, check if both numbers are divisible by the current value of i\n",
    "    if num1 % i == 0 and num2 % i == 0:\n",
    "        # If true, update the GCD and break out of the loop\n",
    "        gcd = i\n",
    "        break\n",
    "        \n",
    "# Print the GCD after the loop\n",
    "print(f\"The greatest common divisor (GCD) of {num1} and {num2} is: {gcd}\")\n",
    "        \n",
    "    \n",
    "\n"
   ]
  },
  {
   "cell_type": "markdown",
   "id": "6466adf7-042b-4ada-9a74-decc6c230b13",
   "metadata": {},
   "source": [
    "The user is prompted to enter the two numbers for which the GCD needs to be found.\n",
    "\n",
    "A variable (gcd) is initialized with the minimum of the two numbers.\n",
    "\n",
    "The for loop iterates from the minimum of the two numbers down to 1.\n",
    "\n",
    "Inside the loop, it checks if both numbers are divisible by the current value of i.\n",
    "\n",
    "If true, it updates the GCD and breaks out of the loop.\n",
    "\n",
    "After the loop, the program prints the calculated GCD.\n",
    "\n"
   ]
  },
  {
   "cell_type": "markdown",
   "id": "ccfec03e-a2ad-4c76-a08c-cd843aae6935",
   "metadata": {},
   "source": [
    "Advanced Level:"
   ]
  },
  {
   "cell_type": "markdown",
   "id": "c89f2aa2-d298-4333-a7c3-8433826165f3",
   "metadata": {},
   "source": [
    "21. Create a program that calculates the sum of the digits of numbers in a list using a list comprehension."
   ]
  },
  {
   "cell_type": "code",
   "execution_count": 2,
   "id": "872c9e6f-c0ea-469c-8afe-32a0cc7aecac",
   "metadata": {},
   "outputs": [
    {
     "name": "stdout",
     "output_type": "stream",
     "text": [
      "Number: 123, Sum of Digits: 6\n",
      "Number: 45, Sum of Digits: 9\n",
      "Number: 678, Sum of Digits: 21\n",
      "Number: 9, Sum of Digits: 9\n",
      "Number: 10, Sum of Digits: 1\n"
     ]
    }
   ],
   "source": [
    "# Create a sample list of numbers\n",
    "numbers = [123, 45, 678, 9, 10]\n",
    "\n",
    "# Use a list comprehension to calculate the sum of digits for each number\n",
    "digit_sums = [sum(int(digit) for digit in str(number)) for number in numbers]\n",
    "\n",
    "# Print the original list of numbers and the corresponding sums of digits\n",
    "for i in range(len(numbers)):\n",
    "    print(f\"Number: {numbers[i]}, Sum of Digits: {digit_sums[i]}\")"
   ]
  },
  {
   "cell_type": "markdown",
   "id": "00f5bc77-4b8e-4f7f-ab34-39970ac04f27",
   "metadata": {},
   "source": [
    "A sample list of numbers (numbers) is provided.\n",
    "\n",
    "The list comprehension ([sum(int(digit) for digit in str(number)) for number in numbers]) iterates over each number in the list, converts each digit to an integer, and calculates the sum of digits using the sum function.\n",
    "\n",
    "The program then prints the original list of numbers and the corresponding sums of digits."
   ]
  },
  {
   "cell_type": "markdown",
   "id": "8537d93a-8d14-44ee-92b4-88f32c14e4d9",
   "metadata": {},
   "source": [
    "22. Write a program to find the prime factors of a given number using a `for` loop and list comprehension."
   ]
  },
  {
   "cell_type": "code",
   "execution_count": 4,
   "id": "33a9dc60-0f0f-4352-9dac-ac4081d31865",
   "metadata": {},
   "outputs": [
    {
     "name": "stdin",
     "output_type": "stream",
     "text": [
      "Enter a number:  24\n"
     ]
    },
    {
     "name": "stdout",
     "output_type": "stream",
     "text": [
      "The prime factors of 24 are: [2, 3]\n"
     ]
    }
   ],
   "source": [
    "# Take user input for the number\n",
    "num = int(input(\"Enter a number: \"))\n",
    "\n",
    "# Use a list comprehension to find the prime factors of the number\n",
    "prime_factors = [factor for factor in range(2, num + 1) if num % factor == 0 and all(factor % i != 0 for i in range(2, int(factor**0.5) + 1))]\n",
    "\n",
    "# Print the prime factors\n",
    "print(f\"The prime factors of {num} are: {prime_factors}\")"
   ]
  },
  {
   "cell_type": "markdown",
   "id": "81a33939-9c9d-4e3d-85a9-36e4e3aa3baa",
   "metadata": {},
   "source": [
    "The user is prompted to enter a number for which the prime factors need to be found.\n",
    "\n",
    "The list comprehension ([factor for factor in range(2, num + 1) if num % factor == 0 and all(factor % i != 0 for i in range(2, int(factor**0.5) + 1))]) iterates over each number in the range from 2 to the given number.\n",
    "\n",
    "For each number (factor), it checks if it is a factor of the given number (num % factor == 0) and if it is a prime number (using the all function and a nested loop to check for divisibility).\n",
    "\n",
    "The program then prints the prime factors."
   ]
  },
  {
   "cell_type": "markdown",
   "id": "6753c6ee-41b3-4548-b1eb-a9bb85c49d90",
   "metadata": {},
   "source": [
    "23. Develop a program that extracts unique elements from a list and stores them in a new list using a list\n",
    "comprehension."
   ]
  },
  {
   "cell_type": "code",
   "execution_count": 5,
   "id": "9675e506-393a-49a6-b971-84a3746f179d",
   "metadata": {},
   "outputs": [
    {
     "name": "stdout",
     "output_type": "stream",
     "text": [
      "Original List: [1, 2, 3, 2, 4, 5, 4, 6, 7, 8, 7]\n",
      "List with Unique Elements: [1, 2, 3, 4, 5, 6, 7, 8]\n"
     ]
    }
   ],
   "source": [
    "# Create a sample list with duplicate and non-duplicate elements\n",
    "original_list = [1, 2, 3, 2, 4, 5, 4, 6, 7, 8, 7]\n",
    "\n",
    "# Use a list comprehension to create a new list with unique elements\n",
    "unique_elements = [element for index, element in enumerate(original_list) if element not in original_list[:index]]\n",
    "\n",
    "# Print the original list and the list with unique elements\n",
    "print(\"Original List:\", original_list)\n",
    "print(\"List with Unique Elements:\", unique_elements)\n",
    "      "
   ]
  },
  {
   "cell_type": "markdown",
   "id": "7dfda29d-a99b-476b-8eb6-3a8042c940db",
   "metadata": {},
   "source": [
    "A sample list (original_list) is provided with duplicate and non-duplicate elements.\n",
    "The list comprehension ([element for index, element in enumerate(original_list) if element not in original_list[:index]]) iterates over each element in the original list and includes it in the new list only if it has not been encountered before in the original list.\n",
    "The program then prints both the original list and the list with unique elements.\n"
   ]
  },
  {
   "cell_type": "markdown",
   "id": "548efd78-f6d4-43b0-8ecf-8a241e72f08c",
   "metadata": {},
   "source": [
    "24. Create a program that generates a list of all palindromic numbers up to a specified limit using a list\n",
    "comprehension."
   ]
  },
  {
   "cell_type": "code",
   "execution_count": 1,
   "id": "a04465a8-fbbf-4152-93d1-cb5490b5c155",
   "metadata": {},
   "outputs": [
    {
     "name": "stdin",
     "output_type": "stream",
     "text": [
      "Enter the specified limit:  100\n"
     ]
    },
    {
     "name": "stdout",
     "output_type": "stream",
     "text": [
      "Palindromic Numbers up to 100: [1, 2, 3, 4, 5, 6, 7, 8, 9, 11, 22, 33, 44, 55, 66, 77, 88, 99]\n"
     ]
    }
   ],
   "source": [
    "# Take user input for the specified limit\n",
    "limit = int(input(\"Enter the specified limit: \"))\n",
    "\n",
    "# Use a list comprehension to generate a list of palindromic numbers\n",
    "palindromic_numbers = [num for num in range(1, limit + 1) if str(num) == str(num)[::-1]]\n",
    "\n",
    "# Print the list of palindromic numbers\n",
    "print(f\"Palindromic Numbers up to {limit}: {palindromic_numbers}\")"
   ]
  },
  {
   "cell_type": "markdown",
   "id": "86ef0f97-566c-460e-acaf-e76be8cd309c",
   "metadata": {},
   "source": [
    "The user is prompted to enter a specified limit.\n",
    "\n",
    "The list comprehension ([num for num in range(1, limit + 1) if str(num) == str(num)[::-1]]) generates a list of numbers from 1 to the specified limit where each number is a palindromic number (the string representation is the same when reversed).\n",
    "\n",
    "The program then prints the list of palindromic numbers."
   ]
  },
  {
   "cell_type": "markdown",
   "id": "59bb1252-8576-437d-aae6-68e8821f47bb",
   "metadata": {},
   "source": [
    "25. Write a program to flatten a nested list using list comprehension."
   ]
  },
  {
   "cell_type": "code",
   "execution_count": 2,
   "id": "4b3be12b-5a59-47ae-879f-9442404b91c3",
   "metadata": {},
   "outputs": [
    {
     "name": "stdout",
     "output_type": "stream",
     "text": [
      "Original Nested Lists: [[1, 2, 3], [4, 5], [6, 7, 8]]\n",
      "Flattened Lists: [1, 2, 3, 4, 5, 6, 7, 8]\n"
     ]
    }
   ],
   "source": [
    "# Create a sample nested list\n",
    "nested_list = [[1, 2, 3], [4, 5], [6, 7, 8]]\n",
    "\n",
    "# Use a list comprehension to flatten the nested list\n",
    "flattened_list = [element for sublist in nested_list for element in sublist]\n",
    "\n",
    "# Print the original nested list and the flattened list\n",
    "print(\"Original Nested Lists:\", nested_list)\n",
    "print(\"Flattened Lists:\",flattened_list)"
   ]
  },
  {
   "cell_type": "markdown",
   "id": "fd288f8b-2c6a-44e6-b240-03c492d20909",
   "metadata": {},
   "source": [
    "A sample nested list (nested_list) is provided.\n",
    "\n",
    "The list comprehension ([element for sublist in nested_list for element in sublist]) iterates over each sublist in the nested list and then over each element in the sublist, effectively flattening the nested structure.\n",
    "\n",
    "The program then prints both the original nested list and the flattened list.\n"
   ]
  },
  {
   "cell_type": "markdown",
   "id": "269454ca-0ef4-48c6-8721-282996dc35b3",
   "metadata": {},
   "source": [
    "26. Develop a program that computes the sum of even and odd numbers in a list separately using list\n",
    "comprehension."
   ]
  },
  {
   "cell_type": "code",
   "execution_count": 3,
   "id": "fbcb8e0a-cd1a-4fae-a383-087cecbb93c0",
   "metadata": {},
   "outputs": [
    {
     "name": "stdout",
     "output_type": "stream",
     "text": [
      "Original Lists: [1, 2, 3, 4, 5, 6, 7, 8, 9, 10]\n",
      "Sum of Even Numbers: 30\n",
      "Sum of Odd Numbers: 25\n"
     ]
    }
   ],
   "source": [
    "# Create a sample list of numbers\n",
    "numbers = [1, 2, 3, 4, 5, 6, 7, 8, 9, 10]\n",
    "\n",
    "# Use list comprehension to calculate the sum of even and odd numbers separately\n",
    "sum_even = sum([num for num in numbers if num % 2 == 0])\n",
    "sum_odd = sum([num for num in numbers if num % 2 != 0])\n",
    "\n",
    "# Print the original list and the sums of even and odd numbers\n",
    "print(\"Original Lists:\", numbers)\n",
    "print(\"Sum of Even Numbers:\", sum_even)\n",
    "print(\"Sum of Odd Numbers:\", sum_odd)"
   ]
  },
  {
   "cell_type": "markdown",
   "id": "8c33c63e-ddb6-4518-bc0e-5544929e73b2",
   "metadata": {},
   "source": [
    "A sample list of numbers (numbers) is provided.\n",
    "\n",
    "Two list comprehensions are used to calculate the sum of even and odd numbers separately. The condition num % 2 == 0 checks for even numbers, and num % 2 != 0 checks for odd numbers.\n",
    "\n",
    "The program then prints the original list and the sums of even and odd numbers.\n"
   ]
  },
  {
   "cell_type": "markdown",
   "id": "383f811b-66bc-4ade-af5a-86e8f30df83a",
   "metadata": {},
   "source": [
    "27. Create a program that generates a list of squares of odd numbers between 1 and 10 using list comprehension."
   ]
  },
  {
   "cell_type": "code",
   "execution_count": 4,
   "id": "26b44e92-2d3b-420b-9f39-b222a0cc0159",
   "metadata": {},
   "outputs": [
    {
     "name": "stdout",
     "output_type": "stream",
     "text": [
      "List of Squares of Odd Numbers between 1 and 10: [1, 9, 25, 49, 81]\n"
     ]
    }
   ],
   "source": [
    "# Use list comprehension to generate a list of squares of odd numbers between 1 and 10\n",
    "squares_of_odd_numbers = [num**2 for num in range(1, 11) if num % 2 != 0]\n",
    "\n",
    "# Print the list of squares of odd numbers\n",
    "print(\"List of Squares of Odd Numbers between 1 and 10:\", squares_of_odd_numbers)"
   ]
  },
  {
   "cell_type": "markdown",
   "id": "a575991e-4c7d-4148-b448-87df95f00689",
   "metadata": {},
   "source": [
    "The list comprehension ([num**2 for num in range(1, 11) if num % 2 != 0]) generates a list of squares of numbers between 1 and 10, but only includes the squares of odd numbers (where num % 2 != 0 checks for odd numbers).\n",
    "\n",
    "The program then prints the list of squares of odd numbers.\n"
   ]
  },
  {
   "cell_type": "markdown",
   "id": "c8ae909b-877c-4f25-b7da-650a68212c89",
   "metadata": {},
   "source": [
    "28. Write a program that combines two lists into a dictionary using list comprehension."
   ]
  },
  {
   "cell_type": "code",
   "execution_count": 5,
   "id": "e0d4beb6-47cb-4ca0-b07c-830e4821074a",
   "metadata": {},
   "outputs": [
    {
     "name": "stdout",
     "output_type": "stream",
     "text": [
      "List of Keys: ['a', 'b', 'c', 'd']\n",
      "List of Values: [1, 2, 3, 4]\n",
      "Combined Dictionary: {'a': 1, 'b': 2, 'c': 3, 'd': 4}\n"
     ]
    }
   ],
   "source": [
    "# Create two sample lists for keys and values\n",
    "keys = ['a', 'b', 'c', 'd']\n",
    "values = [1, 2, 3, 4]\n",
    "\n",
    "# Use list comprehension to create a dictionary\n",
    "combined_dict = {key: value for key, value in zip(keys, values)}\n",
    "\n",
    "# Print the original lists and the combined dictionary\n",
    "print(\"List of Keys:\", keys)\n",
    "print(\"List of Values:\", values)\n",
    "print(\"Combined Dictionary:\", combined_dict)"
   ]
  },
  {
   "cell_type": "markdown",
   "id": "32f9e98e-75e5-4bc0-866e-936fe03df29b",
   "metadata": {},
   "source": [
    "Two sample lists (keys and values) are provided for keys and values.\n",
    "\n",
    "The list comprehension ({key: value for key, value in zip(keys, values)}) iterates over pairs of keys and values obtained using the zip function and creates a dictionary.\n",
    "\n",
    "The program then prints both the original lists and the combined dictionary.\n"
   ]
  },
  {
   "cell_type": "markdown",
   "id": "cafc8c78-d90e-4398-82b8-9fcd71441da1",
   "metadata": {},
   "source": [
    "29. Develop a program that extracts the vowels from a string and stores them in a list using list comprehension."
   ]
  },
  {
   "cell_type": "code",
   "execution_count": 6,
   "id": "b7d78473-ecaa-4599-b6d3-fa9a56bf16ba",
   "metadata": {},
   "outputs": [
    {
     "name": "stdin",
     "output_type": "stream",
     "text": [
      "Enter a string:  Gayatri Kale\n"
     ]
    },
    {
     "name": "stdout",
     "output_type": "stream",
     "text": [
      "Original String: Gayatri Kale\n",
      "List of Vowels: ['a', 'a', 'i', 'a', 'e']\n"
     ]
    }
   ],
   "source": [
    "# Take user input for the string\n",
    "input_string = input(\"Enter a string: \")\n",
    "\n",
    "# Use list comprehension to extract vowels from the string\n",
    "vowels = [char for char in input_string if char.lower() in 'aeiou']\n",
    "\n",
    "# Print the original string and the list of vowels\n",
    "print(\"Original String:\", input_string)\n",
    "print(\"List of Vowels:\", vowels)"
   ]
  },
  {
   "cell_type": "markdown",
   "id": "9ec104da-c592-428a-a821-654984c5897f",
   "metadata": {},
   "source": [
    "The user is prompted to enter a string.\n",
    "\n",
    "The list comprehension ([char for char in input_string if char.lower() in 'aeiou']) iterates over each character in the string and includes it in the list if it is a vowel (ignoring case).\n",
    "\n",
    "The program then prints both the original string and the list of vowels."
   ]
  },
  {
   "cell_type": "markdown",
   "id": "9c605834-141a-42dc-a3dc-bf574d1ed877",
   "metadata": {},
   "source": [
    "30. Create a program that removes all non-numeric characters from a list of strings using list comprehension."
   ]
  },
  {
   "cell_type": "code",
   "execution_count": 7,
   "id": "d10a84b0-834a-40d0-a47d-5b08de1d2ad5",
   "metadata": {},
   "outputs": [
    {
     "name": "stdout",
     "output_type": "stream",
     "text": [
      "Original List of Strings: ['abc123', '456def', '789', 'la2b3c']\n",
      "List with Numeric Characters Only: ['123', '456', '789', '23']\n"
     ]
    }
   ],
   "source": [
    "# Create a sample list of strings\n",
    "string_list = ['abc123', '456def', '789', 'la2b3c']\n",
    "\n",
    "# Use list comprehension to remove non-numeric characters from each string\n",
    "numeric_strings = [''.join(char for char in string if char.isnumeric()) for string in string_list]\n",
    "\n",
    "# Print the original list of strings and the list with only numeric characters\n",
    "print(\"Original List of Strings:\", string_list)\n",
    "print(\"List with Numeric Characters Only:\", numeric_strings)"
   ]
  },
  {
   "cell_type": "markdown",
   "id": "1636cf40-4ecc-4038-9ac3-8de0acd3d4e0",
   "metadata": {},
   "source": [
    "A sample list of strings (string_list) is provided.\n",
    "\n",
    "The list comprehension ([''.join(char for char in string if char.isnumeric()) for string in string_list]) iterates over each string in the list and keeps only the numeric characters using the isnumeric() method.\n",
    "\n",
    "The program then prints both the original list of strings and the list with only numeric characters.\n"
   ]
  },
  {
   "cell_type": "markdown",
   "id": "430adf65-4717-4b3f-af3b-3345622a7a86",
   "metadata": {},
   "source": [
    "Challenge Level:"
   ]
  },
  {
   "cell_type": "markdown",
   "id": "835b6c98-54ad-4afc-9ffd-31b3b1c62022",
   "metadata": {},
   "source": [
    "31. Write a program to generate a list of prime numbers using the Sieve of Eratosthenes algorithm and list\n",
    "comprehension."
   ]
  },
  {
   "cell_type": "code",
   "execution_count": 8,
   "id": "7c9766f6-14c9-495f-831c-c963b44e1a13",
   "metadata": {},
   "outputs": [
    {
     "name": "stdin",
     "output_type": "stream",
     "text": [
      "Enter the limit to generate prime numbers:  30\n"
     ]
    },
    {
     "name": "stdout",
     "output_type": "stream",
     "text": [
      "Prime Numbers up to 30: [2, 3, 5, 7, 11, 13, 17, 19, 23, 29]\n"
     ]
    }
   ],
   "source": [
    "def sieve_of_eratosthenes(limit):\n",
    "     # Create a boolean list to track whether each number is prime\n",
    "        is_prime = [True] * (limit + 1)\n",
    "        is_prime[0] = is_prime[1] = False # 0 and 1 are not prime\n",
    "        \n",
    "        # Use Sieve of Eratosthenes algorithm to mark non-prime numbers\n",
    "        for i in range(2, int(limit**0.5) + 1):\n",
    "            if is_prime[i]:\n",
    "                for j in range(i*i, limit + 1, i):\n",
    "                    is_prime[j] = False\n",
    "                    \n",
    "        # Use list comprehension to generate a list of prime numbers\n",
    "        primes = [num for num in range(2, limit + 1) if is_prime[num]]\n",
    "        return primes\n",
    "    \n",
    "        \n",
    "# Take user input for the limit\n",
    "limit = int(input(\"Enter the limit to generate prime numbers: \"))\n",
    "\n",
    "# Generate a list of prime numbers using the Sieve of Eratosthenes\n",
    "prime_numbers = sieve_of_eratosthenes(limit)\n",
    "\n",
    "# Print the list of prime numbers\n",
    "print(f\"Prime Numbers up to {limit}: {prime_numbers}\")"
   ]
  },
  {
   "cell_type": "markdown",
   "id": "74e4c8d1-3b51-4e85-bf3c-fa2a07ffd990",
   "metadata": {},
   "source": [
    "The sieve_of_eratosthenes function initializes a boolean list (is_prime) where each element represents whether the corresponding index is a prime number.\n",
    "\n",
    "It then marks non-prime numbers using the Sieve of Eratosthenes algorithm.\n",
    "\n",
    "Finally, a list comprehension is used to generate a list of prime numbers based on the boolean list.\n",
    "\n",
    "The user is prompted to enter the limit for generating prime numbers.\n"
   ]
  },
  {
   "cell_type": "markdown",
   "id": "df2f5585-6eff-4b9b-be9b-4fbb2eec98af",
   "metadata": {},
   "source": [
    "32. Create a program that generates a list of all Pythagorean triplets up to a specified limit using list\n",
    "comprehension."
   ]
  },
  {
   "cell_type": "code",
   "execution_count": 9,
   "id": "bbd00e10-d327-41f6-a6e0-c0f6235068f8",
   "metadata": {},
   "outputs": [
    {
     "name": "stdin",
     "output_type": "stream",
     "text": [
      "Enter the limit to generate Pythagorean triplets:  20\n"
     ]
    },
    {
     "name": "stdout",
     "output_type": "stream",
     "text": [
      "Pythagorean Triplets up to 20: [(3, 4, 5), (5, 12, 13), (6, 8, 10), (8, 15, 17), (9, 12, 15), (12, 16, 20)]\n"
     ]
    }
   ],
   "source": [
    "def pythagorean_triplets(limit):\n",
    "    # Use list comprehension to generate Pythagorean triplets\n",
    "    triplets = [(a, b, c) for a in range(1, limit + 1)\n",
    "                for b in range(a, limit + 1)\n",
    "                for c in range(b, limit + 1)\n",
    "                if a**2 + b**2 == c**2]\n",
    "   \n",
    "    return triplets\n",
    "\n",
    "# Take user input for the limit   \n",
    "limit = int(input(\"Enter the limit to generate Pythagorean triplets: \"))\n",
    "\n",
    "# Generate a list of Pythagorean triplets\n",
    "pythagorean_triplet_list = pythagorean_triplets(limit)\n",
    "\n",
    "# Print the list of Pythagorean triplets\n",
    "print(f\"Pythagorean Triplets up to {limit}: {pythagorean_triplet_list}\")"
   ]
  },
  {
   "cell_type": "markdown",
   "id": "137b4427-dafa-43cf-adc3-124b7cfb8cb4",
   "metadata": {},
   "source": [
    "The pythagorean_triplets function uses nested list comprehension to generate Pythagorean triplets. \n",
    "\n",
    "It iterates through all combinations of b, and c within the specified limit, ensuring that ensuring that a≤b≤c to avoid duplicates.\n",
    "\n",
    "The user is prompted to enter a limit (in this example, 20), and the program prints the list of Pythagorean triplets up to that limit."
   ]
  },
  {
   "cell_type": "markdown",
   "id": "05a6c550-d38d-43ee-96d2-a93f93d4ff5d",
   "metadata": {},
   "source": [
    "33. Develop a program that generates a list of all possible combinations of two lists using list comprehension."
   ]
  },
  {
   "cell_type": "code",
   "execution_count": 10,
   "id": "8a464ddb-36f8-486a-ab85-6a03dbcdc8e8",
   "metadata": {},
   "outputs": [
    {
     "name": "stdout",
     "output_type": "stream",
     "text": [
      "All Combinations of [1, 2, 3] and ['a', 'b']: [(1, 'a'), (1, 'b'), (2, 'a'), (2, 'b'), (3, 'a'), (3, 'b')]\n"
     ]
    }
   ],
   "source": [
    "from itertools import product \n",
    "\n",
    "def generate_combinations(list1, list2):\n",
    "     # Use list comprehension and itertools.product to generate combinations\n",
    "        combinations = [(x, y) for x, y in product(list1, list2)]\n",
    "        return combinations\n",
    "    \n",
    "# Sample lists\n",
    "list1 = [1, 2, 3]\n",
    "list2 = ['a', 'b']\n",
    "\n",
    "# Generate a list of all possible combinations\n",
    "all_combinations = generate_combinations(list1, list2)\n",
    "\n",
    "# Print the list of combinations\n",
    "print(f\"All Combinations of {list1} and {list2}: {all_combinations}\")\n",
    "    "
   ]
  },
  {
   "cell_type": "markdown",
   "id": "348adc54-df4e-45c1-8f44-effdb771ebd0",
   "metadata": {},
   "source": [
    "The generate_combinations function uses list comprehension and itertools.product to generate all possible combinations of elements from list1 and list2.\n",
    "\n",
    "In this example, list1 contains integers [1, 2, 3] and list2 contains strings ['a', 'b'].\n",
    "\n",
    "The program prints the list of all possible combinations.\n"
   ]
  },
  {
   "cell_type": "markdown",
   "id": "13817bba-73a0-4191-a16c-a92fe3aa986e",
   "metadata": {},
   "source": [
    "34. Write a program that calculates the mean, median, and mode of a list of numbers using list\n",
    "comprehension."
   ]
  },
  {
   "cell_type": "code",
   "execution_count": 5,
   "id": "9365e6ac-8c34-429e-be88-881a8667660b",
   "metadata": {},
   "outputs": [
    {
     "name": "stdout",
     "output_type": "stream",
     "text": [
      "List of Numbers: [1, 2, 3, 4, 5, 5, 6, 6, 7, 8, 8, 8, 9]\n",
      "Mean: 5.538461538461538\n",
      "Median: 6\n",
      "Mode: [8]\n"
     ]
    }
   ],
   "source": [
    "from statistics import mean, median\n",
    "from collections import Counter\n",
    "\n",
    "def calculate_mean_median_mode(numbers):\n",
    "    # Calculate mean and median using statistics module\n",
    "    mean_value = mean(numbers)\n",
    "    median_value = median(numbers)\n",
    "\n",
    "    # Calculate mode using Counter and list comprehension\n",
    "    counts = Counter(numbers)\n",
    "    mode_values = [key for key, value in counts.items() if value == max(counts.values())]\n",
    "\n",
    "    return mean_value, median_value, mode_values\n",
    "\n",
    "# Sample list of numbers\n",
    "number_list = [1, 2, 3, 4, 5, 5, 6, 6, 7, 8, 8, 8, 9]\n",
    "\n",
    "# Calculate mean, median, and mode\n",
    "mean_result, median_result, mode_result = calculate_mean_median_mode(number_list)\n",
    "\n",
    "# Print the results\n",
    "print(f\"List of Numbers: {number_list}\")\n",
    "print(f\"Mean: {mean_result}\")\n",
    "print(f\"Median: {median_result}\")\n",
    "print(f\"Mode: {mode_result}\")\n",
    "\n",
    "   \n",
    "    \n",
    "    "
   ]
  },
  {
   "cell_type": "markdown",
   "id": "83809ddb-2b19-48f9-8669-702d7269edf9",
   "metadata": {},
   "source": [
    "The calculate_mean_median_mode function uses the statistics.mean and statistics.median functions to calculate the mean and median.\n",
    "\n",
    "For mode, it uses Counter from the collections module to count the occurrences of each number and then uses list comprehension to find the mode values.\n",
    "\n",
    "The program then prints the original list of numbers, mean, median, and mode.\n",
    "\n"
   ]
  },
  {
   "cell_type": "markdown",
   "id": "04cdd47a-44cf-4a83-aed9-3ffac4bc7df3",
   "metadata": {},
   "source": [
    "35. Create a program that generates Pascal's triangle up to a specified number of rows using list\n",
    "comprehension."
   ]
  },
  {
   "cell_type": "code",
   "execution_count": 11,
   "id": "8edde976-6639-4ae6-b620-8c55e154d796",
   "metadata": {},
   "outputs": [
    {
     "name": "stdin",
     "output_type": "stream",
     "text": [
      "Enter the number of rows for Pascal's triangle:  5\n"
     ]
    },
    {
     "name": "stdout",
     "output_type": "stream",
     "text": [
      "[1]\n",
      "[1, 1]\n",
      "[1, 2, 1]\n",
      "[1, 3, 3, 1]\n",
      "[1, 4, 6, 4, 1]\n"
     ]
    }
   ],
   "source": [
    "def generate_pascals_triangle(rows):\n",
    "    triangle = []\n",
    "\n",
    "    for i in range(rows):\n",
    "        row = [1]\n",
    "        if triangle:\n",
    "            last_row = triangle[-1]\n",
    "            row.extend([last_row[j-1] + last_row[j] for j in range(1, i)])\n",
    "            row.append(1)\n",
    "        triangle.append(row)\n",
    "\n",
    "    return triangle\n",
    "\n",
    "# Take user input for the number of rows\n",
    "num_rows = int(input(\"Enter the number of rows for Pascal's triangle: \"))\n",
    "\n",
    "# Generate Pascal's triangle\n",
    "pascals_triangle = generate_pascals_triangle(num_rows)\n",
    "\n",
    "# Print Pascal's triangle\n",
    "for row in pascals_triangle:\n",
    "    print(row)"
   ]
  },
  {
   "cell_type": "markdown",
   "id": "a787cd43-4803-4cfa-9602-66e8181ecb50",
   "metadata": {},
   "source": [
    "The generate_pascals_triangle function uses list comprehension to generate each row of Pascal's triangle.\n",
    "\n",
    "The inner list comprehension [triangle[i-1][j-1] + triangle[i-1][j] for j in range(1, i)] calculates the binomial coefficients based on the previous row.\n",
    "\n",
    "The outer list comprehension generates each row by combining the binomial coefficients and adding the boundary values of 1.\n",
    "\n",
    "The user is prompted to enter the number of rows, and the program prints Pascal's triangle up to the specified number of rows.\n",
    "\n"
   ]
  },
  {
   "cell_type": "markdown",
   "id": "30c6130b-9eff-46ae-8fbf-8da2f1828094",
   "metadata": {},
   "source": [
    "36. Develop a program that calculates the sum of the digits of a factorial of numbers from 1 to 5 using list\n",
    "comprehension."
   ]
  },
  {
   "cell_type": "code",
   "execution_count": 12,
   "id": "705832e1-5b22-44e2-b9e6-4bc49945f1c7",
   "metadata": {},
   "outputs": [
    {
     "name": "stdout",
     "output_type": "stream",
     "text": [
      "Factorial of 1 and sum of its digits: 1\n",
      "Factorial of 2 and sum of its digits: 2\n",
      "Factorial of 3 and sum of its digits: 6\n",
      "Factorial of 4 and sum of its digits: 6\n",
      "Factorial of 5 and sum of its digits: 3\n"
     ]
    }
   ],
   "source": [
    "import math\n",
    "\n",
    "def factorial_sum_of_digits(limit):\n",
    "     # Use list comprehension to calculate factorial and sum of digits\n",
    "        results = [sum(int(digit) for digit in str(math.factorial(num))) for num in range(1, limit + 1)]\n",
    "        \n",
    "        return results\n",
    "    \n",
    "# Set the limit for factorial calculation\n",
    "limit = 5\n",
    "\n",
    "# Calculate the sum of digits of factorial for numbers from 1 to 5\n",
    "sum_of_digits_results = factorial_sum_of_digits(limit)\n",
    "\n",
    "# Print the results\n",
    "for num, result in zip(range(1, limit + 1), sum_of_digits_results):\n",
    "    print(f\"Factorial of {num} and sum of its digits: {result}\")\n",
    "    "
   ]
  },
  {
   "cell_type": "markdown",
   "id": "9327c555-bfed-4d61-8554-125bad08ef28",
   "metadata": {},
   "source": [
    "The factorial_sum_of_digits function uses list comprehension to calculate the factorial of numbers from 1 to the specified limit and then sums the digits of each factorial.\n",
    "\n",
    "The math.factorial function is used to calculate the factorial of a number.\n",
    "\n",
    "The results are then printed for each number in the specified range.\n",
    "\n",
    "You can customize the limit variable to calculate the sum of digits for factorials of numbers up to a different limit."
   ]
  },
  {
   "cell_type": "markdown",
   "id": "95a5cb87-df27-47e0-a9b6-eae4a25643b3",
   "metadata": {},
   "source": [
    "37. Write a program that finds the longest word in a sentence using list comprehension."
   ]
  },
  {
   "cell_type": "code",
   "execution_count": 13,
   "id": "7ddd2eb0-80fa-447d-97b2-ebe53f9cae3b",
   "metadata": {},
   "outputs": [
    {
     "name": "stdin",
     "output_type": "stream",
     "text": [
      "Enter a sentence:  The quick brown fox jumps over the lazy dog.\n"
     ]
    },
    {
     "name": "stdout",
     "output_type": "stream",
     "text": [
      "The longest word in the sentence is: quick\n"
     ]
    }
   ],
   "source": [
    "def longest_word(sentence):\n",
    "     # Use list comprehension to extract words and find the longest one\n",
    "        words = [word.strip('.,?!') for word in sentence.split()]\n",
    "        longest = max(words, key = len)\n",
    "        return longest\n",
    "    \n",
    "# Take user input for the sentence\n",
    "sentence = input(\"Enter a sentence: \")\n",
    "\n",
    "# Find the longest word in the sentence\n",
    "longest_word_result = longest_word(sentence)\n",
    "\n",
    "# Print the result\n",
    "print(f\"The longest word in the sentence is: {longest_word_result}\")\n",
    "    "
   ]
  },
  {
   "cell_type": "markdown",
   "id": "26a785dd-1bc6-4416-a42e-6497722364a8",
   "metadata": {},
   "source": [
    "The longest_word function uses list comprehension to extract words from the input sentence. The split() method is used to break the sentence into words, and strip('.,?!') is used to remove punctuation from each word.\n",
    "\n",
    "The max function with key=len is then used to find the word with the maximum length.\n",
    "\n",
    "The user is prompted to enter a sentence, and the program prints the longest word in the sentence.\n"
   ]
  },
  {
   "cell_type": "markdown",
   "id": "dd871f57-fcae-42eb-8f97-efc38cf0949b",
   "metadata": {},
   "source": [
    "38. Create a program that filters a list of strings to include only those with more than three vowels using list\n",
    "comprehension."
   ]
  },
  {
   "cell_type": "code",
   "execution_count": 19,
   "id": "e1283857-6fbc-41c1-b674-6c726ffa9458",
   "metadata": {},
   "outputs": [
    {
     "name": "stdout",
     "output_type": "stream",
     "text": [
      "Original Lists of Strings: ['hello', 'python', 'programming', 'vowels', 'example', 'list']\n",
      "Filtered Strings with More Than Three Vowels: ['programming', 'example']\n"
     ]
    }
   ],
   "source": [
    "def filter_strings_with_more_than_three_vowels(string_list):\n",
    "    # Use list comprehension to filter strings with more than three vowels\n",
    "    filtered_strings = [string for string in string_list if sum(1 for char in string.lower() if char in 'aeiou') >= 3]\n",
    "    return filtered_strings\n",
    "\n",
    "# Sample list of strings\n",
    "string_list = [\"hello\", \"python\", \"programming\", \"vowels\", \"example\", \"list\"]\n",
    "\n",
    "# Filter strings with more than three vowels\n",
    "filtered_strings = filter_strings_with_more_than_three_vowels(string_list)\n",
    "\n",
    "# Print the result\n",
    "print(f\"Original Lists of Strings: {string_list}\")\n",
    "print(f\"Filtered Strings with More Than Three Vowels: {filtered_strings}\")\n"
   ]
  },
  {
   "cell_type": "markdown",
   "id": "b4a66f5b-4292-4c4e-a919-91eadd103a51",
   "metadata": {},
   "source": [
    "The filter_strings_with_more_than_three_vowels function uses list comprehension to filter strings based on the condition of having more than three vowels.\n",
    "\n",
    "The condition sum(1 for char in string.lower() if char in 'aeiou') > 3 calculates the number of vowels in a case-insensitive manner and checks if it's greater than 3.\n",
    "\n",
    "The sample list of strings is provided, and the program prints both the original list and the filtered list.\n"
   ]
  },
  {
   "cell_type": "markdown",
   "id": "d5491b6c-5fcf-424a-935c-5d0ed11af453",
   "metadata": {},
   "source": [
    "39. Develop a program that calculates the sum of the digits of numbers from 1 to 1000 using list\n",
    "comprehension."
   ]
  },
  {
   "cell_type": "code",
   "execution_count": 20,
   "id": "c92cf713-c897-4f50-8fc2-d459003d2505",
   "metadata": {},
   "outputs": [
    {
     "name": "stdout",
     "output_type": "stream",
     "text": [
      "The sum of digits for numbers from 1 to 1000 is: 13501\n"
     ]
    }
   ],
   "source": [
    "# Use list comprehension to calculate the sum of digits for numbers from 1 to 1000\n",
    "digit_sums = [sum(int(digit) for digit in str(num)) for num in range(1, 1001)]\n",
    "\n",
    "# Print the result\n",
    "print(f\"The sum of digits for numbers from 1 to 1000 is: {sum(digit_sums)}\")"
   ]
  },
  {
   "cell_type": "markdown",
   "id": "4247f5f2-8eb6-4cd4-bf74-44183f69f447",
   "metadata": {},
   "source": [
    "The program uses list comprehension to iterate over numbers from 1 to 1000 (range(1, 1001)).\n",
    "\n",
    "For each number, it converts the number to a string (str(num)) to iterate over its digits.\n",
    "\n",
    "The inner list comprehension calculates the sum of digits for each number.\n",
    "\n",
    "The outer list comprehension collects these sums for all numbers from 1 to 1000.\n",
    "\n",
    "Finally, it prints the sum of all digit sums.\n"
   ]
  },
  {
   "cell_type": "markdown",
   "id": "9e1ede17-340c-437d-8d27-5362c7fc6995",
   "metadata": {},
   "source": [
    "40. Write a program that generates a list of prime palindromic numbers using list comprehension."
   ]
  },
  {
   "cell_type": "code",
   "execution_count": 22,
   "id": "86e0b43c-8ede-44e5-8124-6fe15170cc04",
   "metadata": {},
   "outputs": [
    {
     "name": "stdout",
     "output_type": "stream",
     "text": [
      "Prime Palindromic Numbers: [2, 3, 5, 7, 11, 101, 131, 151, 181, 191, 313, 353, 373, 383, 727, 757, 787, 797, 919, 929]\n"
     ]
    }
   ],
   "source": [
    "def is_prime(num):\n",
    "    if num < 2:\n",
    "        return False\n",
    "    for i in range(2, int(num**0.5) + 1):\n",
    "        if num % i == 0:\n",
    "            return False\n",
    "    return True\n",
    "\n",
    "def is_palindrome(num):\n",
    "    return str(num) == str(num)[::-1]\n",
    "\n",
    "# Use list comprehension to generate a list of prime palindromic numbers\n",
    "prime_palindromes = [num for num in range(1, 1000) if is_prime(num) and is_palindrome(num)]\n",
    "\n",
    "# Print the result\n",
    "print(f\"Prime Palindromic Numbers: {prime_palindromes}\")"
   ]
  },
  {
   "cell_type": "markdown",
   "id": "e5094d1f-1a85-4c0d-b647-e1bbf3d6617a",
   "metadata": {},
   "source": [
    "The is_prime function checks whether a number is prime.\n",
    "\n",
    "The is_palindrome function checks whether a number is a palindrome.\n",
    "\n",
    "The list comprehension generates a list of numbers from 1 to 1000 that are both prime and palindromic using the conditions specified.\n"
   ]
  },
  {
   "cell_type": "code",
   "execution_count": null,
   "id": "b0d10276-9dcd-4072-b29e-f39cc110474e",
   "metadata": {},
   "outputs": [],
   "source": []
  }
 ],
 "metadata": {
  "kernelspec": {
   "display_name": "Python 3 (ipykernel)",
   "language": "python",
   "name": "python3"
  },
  "language_info": {
   "codemirror_mode": {
    "name": "ipython",
    "version": 3
   },
   "file_extension": ".py",
   "mimetype": "text/x-python",
   "name": "python",
   "nbconvert_exporter": "python",
   "pygments_lexer": "ipython3",
   "version": "3.10.8"
  }
 },
 "nbformat": 4,
 "nbformat_minor": 5
}
